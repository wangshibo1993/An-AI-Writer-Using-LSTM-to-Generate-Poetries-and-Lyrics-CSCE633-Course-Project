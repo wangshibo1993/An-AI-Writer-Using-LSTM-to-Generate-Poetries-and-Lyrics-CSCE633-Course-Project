{
 "cells": [
  {
   "cell_type": "code",
   "execution_count": 1,
   "metadata": {},
   "outputs": [],
   "source": [
    "import tensorflow as tf\n",
    "import numpy as np\n",
    "import pickle\n",
    "\n",
    "with open('dictionary.pkl', 'rb') as fr:\n",
    "    [char2id, id2char] = pickle.load(fr)"
   ]
  },
  {
   "cell_type": "code",
   "execution_count": 2,
   "metadata": {},
   "outputs": [],
   "source": [
    "tf.reset_default_graph()\n",
    "batch_size = 1\n",
    "hidden_size = 256\n",
    "num_layer = 2\n",
    "embedding_size =256\n",
    "\n",
    "X = tf.placeholder(tf.int32, [batch_size, None])\n",
    "Y = tf.placeholder(tf.int32, [batch_size, None])\n",
    "learning_rate = tf.Variable(0.0, trainable=False)\n",
    "\n",
    "cell = tf.nn.rnn_cell.MultiRNNCell(\n",
    "    [tf.nn.rnn_cell.LSTMCell(hidden_size, state_is_tuple=True) for i in range(num_layer)], \n",
    "    state_is_tuple=True)\n",
    "initial_state = cell.zero_state(batch_size, tf.float32)\n",
    "\n",
    "embeddings = tf.Variable(tf.random_uniform([len(char2id) + 1, embedding_size], -1.0, 1.0))\n",
    "embedded = tf.nn.embedding_lookup(embeddings, X)\n",
    "\n",
    "outputs, last_states = tf.nn.dynamic_rnn(cell, embedded, initial_state=initial_state)\n",
    "\n",
    "outputs = tf.reshape(outputs, [-1, hidden_size])\n",
    "logits = tf.layers.dense(outputs, units=len(char2id) + 1)\n",
    "probs = tf.nn.softmax(logits)\n",
    "targets = tf.reshape(Y, [-1])\n",
    "\n",
    "loss = tf.reduce_mean(tf.nn.sparse_softmax_cross_entropy_with_logits(logits=logits, labels=targets))\n",
    "params = tf.trainable_variables()\n",
    "grads, _ = tf.clip_by_global_norm(tf.gradients(loss, params), 5)\n",
    "optimizer = tf.train.AdamOptimizer(learning_rate).apply_gradients(zip(grads, params))\n",
    "\n",
    "sess = tf.Session()\n",
    "sess.run(tf.global_variables_initializer())\n",
    "\n",
    "saver = tf.train.Saver()\n",
    "#saver.restore(sess, tf.train.latest_checkpoint('./20'))\n",
    "\n",
    "\n",
    "\n"
   ]
  },
  {
   "cell_type": "code",
   "execution_count": 3,
   "metadata": {
    "scrolled": false
   },
   "outputs": [
    {
     "name": "stdout",
     "output_type": "stream",
     "text": [
      "INFO:tensorflow:Restoring parameters from ./50\\50_epoch\n",
      "许翁衰老爱街斜，三百年长已到家。不作邻翁坐炊饭，老农休说饭寒茶。\n",
      "深宫虽在彩罗袍，度地遗踪竟早闻。学出何年权上遍，习孙须载黍诗豪。\n"
     ]
    }
   ],
   "source": [
    "saver.restore(sess, tf.train.latest_checkpoint('./50'))\n",
    "def generate():\n",
    "    states_ = sess.run(initial_state)\n",
    "    \n",
    "    gen = ''\n",
    "    c = '['\n",
    "    while c != ']':\n",
    "        gen += c\n",
    "        x = np.zeros((batch_size, 1))\n",
    "        x[:, 0] = char2id[c]\n",
    "        probs_, states_ = sess.run([probs, last_states], feed_dict={X: x, initial_state: states_})\n",
    "        probs_ = np.squeeze(probs_)\n",
    "        pos = int(np.searchsorted(np.cumsum(probs_), np.random.rand() * np.sum(probs_)))\n",
    "        c = id2char[pos]\n",
    "    \n",
    "    return gen[1:]\n",
    "\n",
    "def generate_with_head(head):\n",
    "    states_ = sess.run(initial_state)\n",
    "    \n",
    "    gen = ''\n",
    "    c = '['\n",
    "    i = 0\n",
    "    while c != ']':\n",
    "        gen += c\n",
    "        x = np.zeros((batch_size, 1))\n",
    "        x[:, 0] = char2id[c]\n",
    "        probs_, states_ = sess.run([probs, last_states], feed_dict={X: x, initial_state: states_})\n",
    "        probs_ = np.squeeze(probs_)\n",
    "        pos = int(np.searchsorted(np.cumsum(probs_), np.random.rand() * np.sum(probs_)))\n",
    "\n",
    "        if (c == '[' or c == '。' or c == '，') and i < len(head):\n",
    "            c = head[i]\n",
    "            i += 1\n",
    "        else:\n",
    "            c = id2char[pos]\n",
    "    \n",
    "    return gen[1:]\n",
    "\n",
    "print(generate())\n",
    "print(generate_with_head('深度学习'))\n"
   ]
  },
  {
   "cell_type": "code",
   "execution_count": 4,
   "metadata": {},
   "outputs": [
    {
     "name": "stdout",
     "output_type": "stream",
     "text": [
      "农涂种秫复相逢，滞货馋涎蚁也同。多下相思诗一句，何尝精积隔隣中。\n",
      "流水阳沟细雨生，隋堤满渚早莺声。䌽芳门户催多少，睡里烧花欲遍江。\n",
      "燕坐酣眠络乳力，萧萧疎雨点筠根。搘筇脚下何为寄，笑杀沙头自去门。\n",
      "兀兀强临脩濑去，夜深无语立幽閒。悬知一叶非心瘦，野季重来似卧闲。\n",
      "行遍洛川居士身，西南最值雨中鳞。黄金典合台前种，牵客老人每不勤。\n",
      "捻在骊龙鹤，犹为秉炬愁。于今平地作，万壑也如秋。\n",
      "山果多时阁，一冬梅半开。故教千一滓，曲径翠自开。\n",
      "我来且小赋归欤，人如无端只一双。向晚须经头畔线，古今相厌转难存。\n",
      "一溪烟雾四重波，半日祥烟入画梁。忧国一声乐报夜，一轮新火淑心时。\n",
      "修春更有春宜雨，酒袖鸣牙叫不寒。寂历香林藏竹坞，谗披高蹈日头寒。\n",
      "堕糁霜翎雨色疏，山风扫落叶声初。从来一叶扫除尽，四壁松烟挂碗如。\n",
      "禁苑高花上玉阶，祥飚毬地昼萧回。玉人笑折金枝探，莫作清香宴殿来。\n"
     ]
    }
   ],
   "source": [
    "print(generate())\n",
    "print(generate())\n",
    "print(generate())\n",
    "print(generate())\n",
    "print(generate())\n",
    "print(generate())\n",
    "print(generate())\n",
    "print(generate())\n",
    "print(generate())\n",
    "print(generate())\n",
    "print(generate())\n",
    "print(generate())\n",
    "#print(generate_with_head('天下无双'))"
   ]
  },
  {
   "cell_type": "code",
   "execution_count": null,
   "metadata": {},
   "outputs": [],
   "source": []
  },
  {
   "cell_type": "code",
   "execution_count": null,
   "metadata": {},
   "outputs": [],
   "source": []
  },
  {
   "cell_type": "code",
   "execution_count": null,
   "metadata": {},
   "outputs": [],
   "source": []
  },
  {
   "cell_type": "code",
   "execution_count": null,
   "metadata": {},
   "outputs": [],
   "source": []
  },
  {
   "cell_type": "code",
   "execution_count": null,
   "metadata": {},
   "outputs": [],
   "source": []
  },
  {
   "cell_type": "code",
   "execution_count": null,
   "metadata": {},
   "outputs": [],
   "source": []
  }
 ],
 "metadata": {
  "kernelspec": {
   "display_name": "Python 3",
   "language": "python",
   "name": "python3"
  },
  "language_info": {
   "codemirror_mode": {
    "name": "ipython",
    "version": 3
   },
   "file_extension": ".py",
   "mimetype": "text/x-python",
   "name": "python",
   "nbconvert_exporter": "python",
   "pygments_lexer": "ipython3",
   "version": "3.6.8"
  }
 },
 "nbformat": 4,
 "nbformat_minor": 2
}
